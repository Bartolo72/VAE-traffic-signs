{
  "cells": [
    {
      "cell_type": "markdown",
      "metadata": {
        "id": "29voIfiPj7vx"
      },
      "source": [
        "## **Google colab**"
      ]
    },
    {
      "cell_type": "code",
      "execution_count": null,
      "metadata": {
        "colab": {
          "base_uri": "https://localhost:8080/"
        },
        "id": "midJYs04bRlc",
        "outputId": "c6728982-4546-4ac6-ab1c-c8e92e74ec37"
      },
      "outputs": [
        {
          "output_type": "stream",
          "name": "stdout",
          "text": [
            "Mounted at /content/drive\n"
          ]
        }
      ],
      "source": [
        "try:\n",
        "  from google.colab import drive\n",
        "  drive.mount('/content/drive')\n",
        "  google_colab = True\n",
        "except:\n",
        "  google_colab = False"
      ]
    },
    {
      "cell_type": "code",
      "execution_count": null,
      "metadata": {
        "id": "FUsveEU4fNqf"
      },
      "outputs": [],
      "source": [
        "if google_colab:\n",
        "  import os\n",
        "  os.system(\"unzip /content/drive/MyDrive/SSNE/miniprojekt5/trafic_32.zip\")\n",
        "  data_path = \"/content/trafic_32\"\n",
        "else:\n",
        "  data_path = \"./trafic_32\""
      ]
    },
    {
      "cell_type": "code",
      "execution_count": null,
      "metadata": {
        "colab": {
          "base_uri": "https://localhost:8080/",
          "height": 35
        },
        "id": "JNfknH2ydno5",
        "outputId": "32359a45-6ec6-4e97-bbca-989d7fb58451"
      },
      "outputs": [
        {
          "output_type": "execute_result",
          "data": {
            "text/plain": [
              "'/content/trafic_32'"
            ],
            "application/vnd.google.colaboratory.intrinsic+json": {
              "type": "string"
            }
          },
          "metadata": {},
          "execution_count": 3
        }
      ],
      "source": [
        "data_path"
      ]
    },
    {
      "cell_type": "markdown",
      "metadata": {
        "id": "XdF3ddcnkAu_"
      },
      "source": [
        "## **Imports**"
      ]
    },
    {
      "cell_type": "code",
      "execution_count": null,
      "metadata": {
        "id": "mK50gzjHcH91"
      },
      "outputs": [],
      "source": [
        "import torch\n",
        "import torch.utils.data as data\n",
        "import torch.nn as nn\n",
        "import torch.optim as optim\n",
        "import torch.nn.functional as F\n",
        "\n",
        "import torchvision\n",
        "from torchvision import transforms, datasets\n",
        "from torchvision.utils import save_image\n",
        "\n",
        "import matplotlib.pyplot as plt\n",
        "import numpy as np"
      ]
    },
    {
      "cell_type": "code",
      "execution_count": null,
      "metadata": {
        "colab": {
          "base_uri": "https://localhost:8080/"
        },
        "id": "nvMPfXPRbS1B",
        "outputId": "c8dac257-1882-4602-a834-80ae0eb0ee7d"
      },
      "outputs": [
        {
          "output_type": "stream",
          "name": "stdout",
          "text": [
            "Device: cuda:0\n"
          ]
        }
      ],
      "source": [
        "device = torch.device(\"cuda:0\") if torch.cuda.is_available() else torch.device(\"cpu\")\n",
        "print(\"Device:\", device)"
      ]
    },
    {
      "cell_type": "markdown",
      "metadata": {
        "id": "zw8yBS9BcKsx"
      },
      "source": [
        "## **Data**"
      ]
    },
    {
      "cell_type": "code",
      "execution_count": null,
      "metadata": {
        "id": "UnqrlssmcS5C"
      },
      "outputs": [],
      "source": [
        "transform = transforms.Compose([transforms.ToTensor()])\n",
        "\n",
        "train_dataset = datasets.ImageFolder(root=data_path, transform=transform)\n",
        "test_dataset = datasets.ImageFolder(root=data_path, transform=transform)\n",
        "\n",
        "train_loader = data.DataLoader(train_dataset, batch_size=128, shuffle=True, drop_last=True, pin_memory=True, num_workers=2)\n",
        "test_loader = data.DataLoader(test_dataset, batch_size=128, shuffle=True, drop_last=True, num_workers=2)"
      ]
    },
    {
      "cell_type": "code",
      "execution_count": null,
      "metadata": {
        "colab": {
          "base_uri": "https://localhost:8080/"
        },
        "id": "R0NEeY-LwFac",
        "outputId": "6b269c51-0944-40b6-f47f-cf86f7a08577"
      },
      "outputs": [
        {
          "output_type": "execute_result",
          "data": {
            "text/plain": [
              "torch.Size([3, 32, 32])"
            ]
          },
          "metadata": {},
          "execution_count": 7
        }
      ],
      "source": [
        "train_data, train_labels = next(iter(train_loader))\n",
        "train_data[0].size()"
      ]
    },
    {
      "cell_type": "markdown",
      "metadata": {
        "id": "eTBDohm1Y8hd"
      },
      "source": [
        "### **Data prep**"
      ]
    },
    {
      "cell_type": "code",
      "execution_count": null,
      "metadata": {
        "colab": {
          "base_uri": "https://localhost:8080/"
        },
        "id": "OjMRh5s6Y8he",
        "outputId": "05b2197d-bb1b-4ab5-dbce-0216386d81f1"
      },
      "outputs": [
        {
          "output_type": "stream",
          "name": "stdout",
          "text": [
            "tensor([ 420,  630,  600,  240, 2160, 1410,  450,  240, 1410,  780,  210, 1200,\n",
            "        1980, 1110,  330,  420,  540, 1470,  270,  300,  270,  240,  210, 1440,\n",
            "        2220,  390,  689,  240, 2010, 1200,  510,  390,  780, 1500,  360,  360,\n",
            "        1860, 1320, 2070, 2250, 2100,  420,  210])\n"
          ]
        }
      ],
      "source": [
        "import os\n",
        "from os.path import join as os_join \n",
        "\n",
        "classes_dir = os.listdir(data_path)\n",
        "classes_amount = [len(os.listdir(os_join(data_path, dir_name))) for dir_name in classes_dir]\n",
        "assert len(classes_amount) == len(classes_dir)\n",
        "print(torch.tensor(classes_amount))\n"
      ]
    },
    {
      "cell_type": "code",
      "execution_count": null,
      "metadata": {
        "colab": {
          "base_uri": "https://localhost:8080/"
        },
        "id": "PLAPQ7XtY8hf",
        "outputId": "e60bac09-a8c6-4d83-d9e4-e577a23012f3"
      },
      "outputs": [
        {
          "output_type": "execute_result",
          "data": {
            "text/plain": [
              "tensor([2.1861, 2.1282, 2.1401, 2.2407, 1.5041, 1.8563, 2.1861, 2.2407, 1.8563,\n",
              "        2.0794, 2.2513, 1.9315, 1.6094, 1.9741, 2.2192, 2.1861, 2.1518, 1.8405,\n",
              "        2.2300, 2.2192, 2.2300, 2.2407, 2.2513, 1.8405, 1.4586, 2.1972, 2.1041,\n",
              "        2.2407, 1.5892, 1.9315, 2.1633, 2.1972, 2.0794, 1.8245, 2.2083, 2.2083,\n",
              "        1.6677, 1.8871, 1.5476, 1.4586, 1.5261, 2.1861, 2.2513])"
            ]
          },
          "metadata": {},
          "execution_count": 9
        }
      ],
      "source": [
        "classes_weights = torch.tensor([round( 1 - (class_amount / sum(classes_amount)) * 10, 2) for class_amount in classes_amount])\n",
        "classes_weights = torch.log(classes_weights * 10)\n",
        "classes_weights"
      ]
    },
    {
      "cell_type": "markdown",
      "metadata": {
        "id": "Y2zF5hM3j1Mx"
      },
      "source": [
        "## **VAE**"
      ]
    },
    {
      "cell_type": "code",
      "execution_count": null,
      "metadata": {
        "id": "hRNcLtG8j6iQ"
      },
      "outputs": [],
      "source": [
        "class Encoder(nn.Module):\n",
        "    def __init__(self, input_dim, latent_dim, img_channels, filters_amount):\n",
        "      super(Encoder, self).__init__()\n",
        "      self.input_dim = input_dim\n",
        "\n",
        "      self.conv1 = nn.Conv2d(img_channels, filters_amount, 5)\n",
        "      self.conv2 = nn.Conv2d(filters_amount, filters_amount, 5)\n",
        "      self.func = nn.Linear(filters_amount * 24 * 24, input_dim) # 24 - wymiar obrazka po przejściu przez warstwę konwolucyjną\n",
        "      self.func_mean = nn.Linear(input_dim, latent_dim)\n",
        "      self.func_var = nn.Linear(input_dim, latent_dim)\n",
        "      self.leaky_ReLU = nn.LeakyReLU(0.2)\n",
        "\n",
        "    def forward(self, x):\n",
        "      x = self.conv1(x)\n",
        "      x = self.leaky_ReLU(x)\n",
        "      x = self.conv2(x)\n",
        "      x = self.leaky_ReLU(x)\n",
        "      x = torch.flatten(x, start_dim=1)\n",
        "      x = self.func(x)\n",
        "      x = self.leaky_ReLU(x)\n",
        "      mean = self.func_mean(x)\n",
        "      log_var = self.func_var(x)\n",
        "      return mean, log_var"
      ]
    },
    {
      "cell_type": "code",
      "execution_count": null,
      "metadata": {
        "id": "961iIJORm54M"
      },
      "outputs": [],
      "source": [
        "class Decoder(nn.Module):\n",
        "  def __init__(self, latent_dim, output_dim, img_channels, filters_amount):\n",
        "    super(Decoder, self).__init__()\n",
        "    self.filters_amount = filters_amount\n",
        "    \n",
        "    self.func1 = nn.Linear(latent_dim, output_dim)\n",
        "    self.func2 = nn.Linear(output_dim, filters_amount * 24 * 24)\n",
        "    self.unflatten = nn.Unflatten(dim=1, unflattened_size=(filters_amount, 24, 24))\n",
        "    self.conv1 = nn.ConvTranspose2d(filters_amount, filters_amount, 5)\n",
        "    self.conv2 = nn.ConvTranspose2d(filters_amount, img_channels, 5)\n",
        "    self.leaky_ReLU = nn.LeakyReLU(0.2)\n",
        "  \n",
        "  def forward(self, x):\n",
        "    x = self.func1(x)\n",
        "    x = self.leaky_ReLU(x)\n",
        "    x = self.func2(x)\n",
        "    x = self.leaky_ReLU(x)\n",
        "    x = self.unflatten(x)\n",
        "    x = self.conv1(x)\n",
        "    x = self.leaky_ReLU(x)\n",
        "    x = self.conv2(x)\n",
        "    x_hat = torch.sigmoid(x)\n",
        "    x_hat = x_hat.view([-1, 3, 32, 32])\n",
        "    return x_hat"
      ]
    },
    {
      "cell_type": "code",
      "execution_count": null,
      "metadata": {
        "id": "_oWwTMegnqgc"
      },
      "outputs": [],
      "source": [
        "class VAE(nn.Module):\n",
        "  def __init__(self, x_dim, latent_dim, img_channels, filters_amount):\n",
        "    super(VAE, self).__init__()\n",
        "    self.latent_dim = latent_dim\n",
        "    self.encoder = Encoder(input_dim=x_dim, latent_dim=latent_dim, img_channels=img_channels, filters_amount=filters_amount)\n",
        "    self.decoder = Decoder(latent_dim=latent_dim, output_dim=x_dim, img_channels=img_channels, filters_amount=filters_amount)\n",
        "\n",
        "  def reparameterization(self, mean, var):\n",
        "    eps = torch.randn_like(mean) \n",
        "    z = mean + eps * var \n",
        "    return z\n",
        "                      \n",
        "  def forward(self, x):\n",
        "    mean, log_var = self.encoder(x)\n",
        "    z = self.reparameterization(mean, torch.exp(0.5 * log_var)) \n",
        "    x_hat = self.decoder(z)\n",
        "    return x_hat, mean, log_var"
      ]
    },
    {
      "cell_type": "markdown",
      "metadata": {
        "id": "9_32wUlPoFrf"
      },
      "source": [
        "## **Smaller VAE**"
      ]
    },
    {
      "cell_type": "code",
      "execution_count": null,
      "metadata": {
        "id": "ImD8uQc1oLqL"
      },
      "outputs": [],
      "source": [
        "class Encoder(nn.Module):\n",
        "    def __init__(self, input_dim, latent_dim, img_channels, filters_amount):\n",
        "      super(Encoder, self).__init__()\n",
        "\n",
        "      self.conv1 = nn.Conv2d(img_channels, filters_amount, 5)\n",
        "      self.func = nn.Linear(filters_amount * 28 * 28, input_dim) # 24 - wymiar obrazka po przejściu przez warstwę konwolucyjną\n",
        "      self.func_mean = nn.Linear(input_dim, latent_dim)\n",
        "      self.func_var = nn.Linear(input_dim, latent_dim)\n",
        "      self.leaky_ReLU = nn.LeakyReLU(0.2)\n",
        "\n",
        "    def forward(self, x):\n",
        "      x = self.conv1(x)\n",
        "      x = self.leaky_ReLU(x)\n",
        "      x = torch.flatten(x, start_dim=1)\n",
        "      x = self.func(x)\n",
        "      x = self.leaky_ReLU(x)\n",
        "      mean = self.func_mean(x)\n",
        "      log_var = self.func_var(x)\n",
        "      return mean, log_var"
      ]
    },
    {
      "cell_type": "code",
      "execution_count": null,
      "metadata": {
        "id": "6jSmq1l_oOio"
      },
      "outputs": [],
      "source": [
        "class Decoder(nn.Module):\n",
        "  def __init__(self, latent_dim, output_dim, img_channels, filters_amount):\n",
        "    super(Decoder, self).__init__()\n",
        "\n",
        "    self.func1 = nn.Linear(latent_dim, output_dim)\n",
        "    self.func2 = nn.Linear(output_dim, filters_amount * 28 * 28)\n",
        "    self.unflatten = nn.Unflatten(dim=1, unflattened_size=(filters_amount, 28, 28))\n",
        "    self.conv1 = nn.ConvTranspose2d(filters_amount, img_channels, 5)\n",
        "    self.leaky_ReLU = nn.LeakyReLU(0.2)\n",
        "  \n",
        "  def forward(self, x):\n",
        "    x = self.func1(x)\n",
        "    x = self.leaky_ReLU(x)\n",
        "    x = self.func2(x)\n",
        "    x = self.leaky_ReLU(x)\n",
        "    x = self.unflatten(x)\n",
        "    x = self.conv1(x)\n",
        "    x_hat = torch.sigmoid(x)\n",
        "    x_hat = x_hat.view([-1, 3, 32, 32])\n",
        "    return x_hat"
      ]
    },
    {
      "cell_type": "code",
      "execution_count": null,
      "metadata": {
        "id": "n9DzHkapoQew"
      },
      "outputs": [],
      "source": [
        "class Smaller_VAE(nn.Module):\n",
        "  def __init__(self, x_dim, latent_dim, img_channels, filters_amount):\n",
        "    super(Smaller_VAE, self).__init__()\n",
        "    self.latent_dim = latent_dim\n",
        "    self.encoder = Encoder(input_dim=x_dim, latent_dim=latent_dim, img_channels=img_channels, filters_amount=filters_amount)\n",
        "    self.decoder = Decoder(latent_dim=latent_dim, output_dim=x_dim, img_channels=img_channels, filters_amount=filters_amount)\n",
        "\n",
        "  def reparameterization(self, mean, var):\n",
        "    eps = torch.randn_like(mean) \n",
        "    z = mean + eps * var \n",
        "    return z\n",
        "                      \n",
        "  def forward(self, x):\n",
        "    mean, log_var = self.encoder(x)\n",
        "    z = self.reparameterization(mean, torch.exp(0.5 * log_var)) \n",
        "    x_hat = self.decoder(z)\n",
        "    return x_hat, mean, log_var"
      ]
    },
    {
      "cell_type": "markdown",
      "metadata": {
        "id": "SiQfCfpc-x1k"
      },
      "source": [
        "## **Big boy VAE**"
      ]
    },
    {
      "cell_type": "code",
      "execution_count": null,
      "metadata": {
        "id": "TsjWApSP-2ub"
      },
      "outputs": [],
      "source": [
        "class Encoder(nn.Module):\n",
        "    def __init__(self, input_dim, latent_dim, img_channels, filters_amount):\n",
        "      super(Encoder, self).__init__()\n",
        "      self.input_dim = input_dim\n",
        "\n",
        "      self.conv1 = nn.Conv2d(img_channels, filters_amount, 5)\n",
        "      self.batch1 = nn.BatchNorm2d(filters_amount)\n",
        "\n",
        "      self.conv2 = nn.Conv2d(filters_amount, 32, 5)\n",
        "      self.batch2 = nn.BatchNorm2d(32)\n",
        "\n",
        "      self.conv3 = nn.Conv2d(32, 16, 5)\n",
        "      self.batch3 = nn.BatchNorm2d(16)\n",
        "\n",
        "      self.func = nn.Linear(16 * 20 * 20, input_dim) # 20 - wymiar obrazka po przejściu przez warstwę konwolucyjną\n",
        "\n",
        "      self.func_mean = nn.Linear(input_dim, latent_dim)\n",
        "      self.func_var = nn.Linear(input_dim, latent_dim)\n",
        "      \n",
        "      self.leaky_ReLU = nn.LeakyReLU(0.2)\n",
        "\n",
        "    def forward(self, x):\n",
        "      x = self.conv1(x)\n",
        "      x = self.batch1(x)\n",
        "      x = self.leaky_ReLU(x)\n",
        "\n",
        "      x = self.conv2(x)\n",
        "      x = self.batch2(x)\n",
        "      x = self.leaky_ReLU(x)\n",
        "\n",
        "      x = self.conv3(x)\n",
        "      x = self.batch3(x)\n",
        "      x = self.leaky_ReLU(x)\n",
        "\n",
        "      x = torch.flatten(x, start_dim=1)\n",
        "\n",
        "      x = self.func(x)\n",
        "      x = self.leaky_ReLU(x)\n",
        "\n",
        "      mean = self.func_mean(x)\n",
        "      log_var = self.func_var(x)\n",
        "      return mean, log_var"
      ]
    },
    {
      "cell_type": "code",
      "execution_count": null,
      "metadata": {
        "id": "gmAo3_nQ-8hN"
      },
      "outputs": [],
      "source": [
        "class Decoder(nn.Module):\n",
        "  def __init__(self, latent_dim, output_dim, img_channels, filters_amount):\n",
        "    super(Decoder, self).__init__()\n",
        "    self.filters_amount = filters_amount\n",
        "    \n",
        "    self.func1 = nn.Linear(latent_dim, output_dim)\n",
        "    self.func2 = nn.Linear(output_dim, 16 * 20 * 20)\n",
        "\n",
        "    self.unflatten = nn.Unflatten(dim=1, unflattened_size=(16, 20, 20))\n",
        "\n",
        "    self.conv1 = nn.ConvTranspose2d(16, 32, 5)\n",
        "    self.conv2 = nn.ConvTranspose2d(32, filters_amount, 5)\n",
        "    self.conv3 = nn.ConvTranspose2d(filters_amount, img_channels, 5)\n",
        "\n",
        "    self.leaky_ReLU = nn.LeakyReLU(0.2)\n",
        "  \n",
        "  def forward(self, x):\n",
        "    x = self.func1(x)\n",
        "    x = self.leaky_ReLU(x)\n",
        "\n",
        "    x = self.func2(x)\n",
        "    x = self.leaky_ReLU(x)\n",
        "\n",
        "    x = self.unflatten(x)\n",
        "\n",
        "    x = self.conv1(x)\n",
        "    x = self.leaky_ReLU(x)\n",
        "\n",
        "    x = self.conv2(x)\n",
        "    x = self.leaky_ReLU(x)\n",
        "\n",
        "    x = self.conv3(x)\n",
        "    \n",
        "    x_hat = torch.sigmoid(x)\n",
        "    x_hat = x_hat.view([-1, 3, 32, 32])\n",
        "    return x_hat"
      ]
    },
    {
      "cell_type": "code",
      "execution_count": null,
      "metadata": {
        "id": "U3KsB9to--Yb"
      },
      "outputs": [],
      "source": [
        "class Big_VAE(nn.Module):\n",
        "  def __init__(self, x_dim, latent_dim, img_channels, filters_amount):\n",
        "    super(Big_VAE, self).__init__()\n",
        "    self.latent_dim = latent_dim\n",
        "    self.encoder = Encoder(input_dim=x_dim, latent_dim=latent_dim, img_channels=img_channels, filters_amount=filters_amount)\n",
        "    self.decoder = Decoder(latent_dim=latent_dim, output_dim=x_dim, img_channels=img_channels, filters_amount=filters_amount)\n",
        "\n",
        "  def reparameterization(self, mean, var):\n",
        "    eps = torch.randn_like(mean) \n",
        "    z = mean + eps * var \n",
        "    return z\n",
        "                      \n",
        "  def forward(self, x):\n",
        "    mean, log_var = self.encoder(x)\n",
        "    z = self.reparameterization(mean, torch.exp(0.5 * log_var)) \n",
        "    x_hat = self.decoder(z)\n",
        "    return x_hat, mean, log_var"
      ]
    },
    {
      "cell_type": "markdown",
      "metadata": {
        "id": "_ObBJe-VpjjG"
      },
      "source": [
        "## **Training**"
      ]
    },
    {
      "cell_type": "code",
      "source": [
        "def vae_loss_function(x, x_hat, mean, log_var, labels):\n",
        "    reproduction_loss = nn.functional.mse_loss(x_hat, x, reduction='sum')\n",
        "    KLD      = -0.5 * torch.sum(1+ log_var - mean.pow(2) - log_var.exp()) \n",
        "    return reproduction_loss + KLD"
      ],
      "metadata": {
        "id": "bo6TT0cz-dxv"
      },
      "execution_count": null,
      "outputs": []
    },
    {
      "cell_type": "code",
      "execution_count": null,
      "metadata": {
        "id": "Kt-s_THGr33z"
      },
      "outputs": [],
      "source": [
        "# def vae_loss_function(x, x_hat, mean, log_var, labels):\n",
        "#     reproduction_loss = 0\n",
        "#     labels_len = list(labels.size())[0]\n",
        "#     for i in range(labels_len):\n",
        "#         x_weighted = x[i] * classes_weights[labels[i]]\n",
        "#         #print(f\"X_weighted: {x_weighted} \\n X: {x[i]} \\n Label: {labels[i]} \\n Label_weights: {classes_weights[labels[i]]}\")\n",
        "#         reproduction_loss += nn.functional.mse_loss(x_hat[i], x_weighted, reduction=\"sum\")\n",
        "#     KLD      = -0.5 * torch.sum(1+ log_var - mean.pow(2) - log_var.exp()) \n",
        "#     return reproduction_loss + KLD"
      ]
    },
    {
      "cell_type": "code",
      "execution_count": null,
      "metadata": {
        "id": "G-e7ofHaslmF"
      },
      "outputs": [],
      "source": [
        "def train_model(num_epochs, train_loader, optimizer, test_loader, scheduler, model):\n",
        "  for n in range(num_epochs):\n",
        "      losses_epoch = []\n",
        "      for x, labels in iter(train_loader):\n",
        "          x = x.to(device)\n",
        "          out, means, log_var = model(x)\n",
        "          loss = vae_loss_function(x, out, means, log_var, labels) \n",
        "          losses_epoch.append(loss.item())\n",
        "          loss.backward()               \n",
        "          optimizer.step()              \n",
        "          optimizer.zero_grad()  \n",
        "      L1_list = []\n",
        "      #if n % 10 == 0:\n",
        "      for x, _ in iter(test_loader):\n",
        "          x  = x.to(device)\n",
        "          out, _, _ = model(x)\n",
        "          L1_list.append(torch.mean(torch.abs(out-x)).item())\n",
        "      print(f\"Epoch {n} loss {np.mean(np.array(losses_epoch))}, test L1 = {np.mean(L1_list)}\")\n",
        "      scheduler.step()"
      ]
    },
    {
      "cell_type": "markdown",
      "metadata": {
        "id": "hFtpv_J7Y8iH"
      },
      "source": [
        "### **VAE training**"
      ]
    },
    {
      "cell_type": "code",
      "execution_count": null,
      "metadata": {
        "id": "i2rs5A0PoY6r"
      },
      "outputs": [],
      "source": [
        "vae = VAE(latent_dim=32, x_dim=3072, img_channels=3, filters_amount=43).to(device) # 3072 = 3 * 32 * 32 - rozmiar wejściowego tensora\n",
        "optimizer = optim.Adam(vae.parameters(), lr=0.001)\n",
        "scheduler = optim.lr_scheduler.ExponentialLR(optimizer=optimizer, gamma=0.99)"
      ]
    },
    {
      "cell_type": "code",
      "execution_count": null,
      "metadata": {
        "colab": {
          "base_uri": "https://localhost:8080/"
        },
        "id": "1zK0NGzHt6_e",
        "outputId": "5bfa0d3d-a869-413c-d8f3-c13a4a7f8e29"
      },
      "outputs": [
        {
          "output_type": "stream",
          "name": "stdout",
          "text": [
            "Epoch 0 loss 13655.153949014502, test L1 = 0.09577014657601811\n",
            "Epoch 1 loss 8978.718627131842, test L1 = 0.08520499071459366\n",
            "Epoch 2 loss 8415.492712482128, test L1 = 0.08268807017627884\n",
            "Epoch 3 loss 8027.623080384497, test L1 = 0.08121127559760817\n",
            "Epoch 4 loss 7762.404885684743, test L1 = 0.08227377567513317\n",
            "Epoch 5 loss 7567.904419743158, test L1 = 0.08068729730115996\n",
            "Epoch 6 loss 7482.935353796466, test L1 = 0.08161226966801811\n",
            "Epoch 7 loss 7387.62153735192, test L1 = 0.07685885040296449\n",
            "Epoch 8 loss 7276.005880118974, test L1 = 0.07680609184347727\n",
            "Epoch 9 loss 7160.146115770527, test L1 = 0.07513046240300135\n",
            "Epoch 10 loss 7082.085079018587, test L1 = 0.0754723369929136\n",
            "Epoch 11 loss 7018.23082458895, test L1 = 0.07498754967564071\n",
            "Epoch 12 loss 6964.2386163449755, test L1 = 0.07631339293484594\n",
            "Epoch 13 loss 6916.20285851971, test L1 = 0.07311207418835242\n",
            "Epoch 14 loss 6871.90216822406, test L1 = 0.07266020796754781\n",
            "Epoch 15 loss 6849.10711071538, test L1 = 0.07270856040949915\n",
            "Epoch 16 loss 6751.578440946691, test L1 = 0.07478662207722664\n",
            "Epoch 17 loss 6713.780610128166, test L1 = 0.07142676900025287\n",
            "Epoch 18 loss 6623.51322667739, test L1 = 0.0710009358628513\n",
            "Epoch 19 loss 6604.802479064542, test L1 = 0.07496287206224367\n",
            "Epoch 20 loss 6569.907721226511, test L1 = 0.07125752446016455\n",
            "Epoch 21 loss 6556.981981464461, test L1 = 0.07021333630275882\n",
            "Epoch 22 loss 6476.8168530433, test L1 = 0.0704850653076873\n",
            "Epoch 23 loss 6464.742066227533, test L1 = 0.07094276280087583\n",
            "Epoch 24 loss 6416.535188163807, test L1 = 0.07048685515141176\n",
            "Epoch 25 loss 6397.628743489583, test L1 = 0.06903277391117382\n",
            "Epoch 26 loss 6332.047714333129, test L1 = 0.06868735126225776\n",
            "Epoch 27 loss 6287.872836243872, test L1 = 0.06859601247641775\n",
            "Epoch 28 loss 6273.964329937704, test L1 = 0.06869383565351075\n",
            "Epoch 29 loss 6200.51273999183, test L1 = 0.06775116185152452\n"
          ]
        }
      ],
      "source": [
        "train_model(num_epochs=30, train_loader=train_loader, optimizer=optimizer, test_loader=test_loader, scheduler=scheduler, model=vae)"
      ]
    },
    {
      "cell_type": "markdown",
      "metadata": {
        "id": "yMAGD18iY8iK"
      },
      "source": [
        "### **Small boy VAE traning**"
      ]
    },
    {
      "cell_type": "code",
      "execution_count": null,
      "metadata": {
        "id": "JaI8ysFhofh7"
      },
      "outputs": [],
      "source": [
        "small_vae = Smaller_VAE(latent_dim=32, x_dim=3072, img_channels=3, filters_amount=43).to(device) # 3072 = 3 * 32 * 32 - rozmiar wejściowego tensora\n",
        "optimizer = optim.Adam(small_vae.parameters(), lr=0.001)\n",
        "scheduler = optim.lr_scheduler.ExponentialLR(optimizer=optimizer, gamma=0.99)"
      ]
    },
    {
      "cell_type": "code",
      "execution_count": null,
      "metadata": {
        "colab": {
          "base_uri": "https://localhost:8080/"
        },
        "id": "ywh-jPH9ohmD",
        "outputId": "390e49ce-473d-466b-de93-9f10a65a9a37"
      },
      "outputs": [
        {
          "name": "stdout",
          "output_type": "stream",
          "text": [
            "Epoch 0 loss 38567.87855519812, test L1 = 0.08791227424456403\n",
            "Epoch 1 loss 16123.834092881945, test L1 = 0.07995647513398937\n",
            "Epoch 2 loss 14956.445957158905, test L1 = 0.07630846702974606\n",
            "Epoch 3 loss 14466.550334456699, test L1 = 0.07662658393383026\n",
            "Epoch 4 loss 14114.701873978758, test L1 = 0.0745510027981272\n",
            "Epoch 5 loss 13841.902943729576, test L1 = 0.07321614582164615\n",
            "Epoch 6 loss 13588.464850132761, test L1 = 0.07283731199362699\n",
            "Epoch 7 loss 13413.172551572712, test L1 = 0.07238307142374563\n",
            "Epoch 8 loss 13293.11248340482, test L1 = 0.07148937072629243\n",
            "Epoch 9 loss 13149.575220843546, test L1 = 0.07254188220485364\n",
            "Epoch 10 loss 13074.703954758987, test L1 = 0.07017305113521277\n",
            "Epoch 11 loss 12951.803091809641, test L1 = 0.0699590806380596\n",
            "Epoch 12 loss 12835.349947661356, test L1 = 0.06919760899800881\n",
            "Epoch 13 loss 12754.760576235703, test L1 = 0.068144132644912\n",
            "Epoch 14 loss 12682.958786509396, test L1 = 0.06817085067041559\n",
            "Epoch 15 loss 12578.268758935867, test L1 = 0.06849421122494866\n",
            "Epoch 16 loss 12527.589741625818, test L1 = 0.06893720438862158\n",
            "Epoch 17 loss 12454.470320159313, test L1 = 0.06681349245356578\n",
            "Epoch 18 loss 12409.162313623367, test L1 = 0.06702919903339125\n",
            "Epoch 19 loss 12323.0497217116, test L1 = 0.06765685960942623\n",
            "Epoch 20 loss 12275.652547998367, test L1 = 0.06747354927405812\n",
            "Epoch 21 loss 12195.124304279003, test L1 = 0.06654088330619476\n",
            "Epoch 22 loss 12136.181972528595, test L1 = 0.06694357847076615\n",
            "Epoch 23 loss 12110.101090175654, test L1 = 0.0650660859457418\n",
            "Epoch 24 loss 12052.244829963236, test L1 = 0.06584716573649761\n",
            "Epoch 25 loss 12009.042451746323, test L1 = 0.066127729596071\n",
            "Epoch 26 loss 11997.963669321896, test L1 = 0.0649727456076862\n",
            "Epoch 27 loss 11917.808887357027, test L1 = 0.06537108615138172\n",
            "Epoch 28 loss 11880.105443218954, test L1 = 0.06500923959842694\n",
            "Epoch 29 loss 11811.07235498366, test L1 = 0.06496873519876424\n"
          ]
        }
      ],
      "source": [
        "train_model(num_epochs=30, train_loader=train_loader, optimizer=optimizer, test_loader=test_loader, scheduler=scheduler, model=small_vae)"
      ]
    },
    {
      "cell_type": "markdown",
      "metadata": {
        "id": "yglHlmpmY8iL"
      },
      "source": [
        "### **Big boy VAE training**"
      ]
    },
    {
      "cell_type": "code",
      "execution_count": null,
      "metadata": {
        "id": "ku5X491bY8iM"
      },
      "outputs": [],
      "source": [
        "big_vae = Big_VAE(latent_dim=32, x_dim=3072, img_channels=3, filters_amount=43).to(device) # 3072 = 3 * 32 * 32 - rozmiar wejściowego tensora\n",
        "optimizer = optim.Adam(big_vae.parameters(), lr=0.001)\n",
        "scheduler = optim.lr_scheduler.ExponentialLR(optimizer=optimizer, gamma=0.99)"
      ]
    },
    {
      "cell_type": "code",
      "execution_count": null,
      "metadata": {
        "id": "h94we2MIY8iN",
        "colab": {
          "base_uri": "https://localhost:8080/"
        },
        "outputId": "f7bd781f-6178-4ddc-9e36-da999f05bca1"
      },
      "outputs": [
        {
          "output_type": "stream",
          "name": "stdout",
          "text": [
            "Epoch 0 loss 13316.645057827818, test L1 = 0.10062331784200045\n",
            "Epoch 1 loss 9050.372978260315, test L1 = 0.08538515646668042\n",
            "Epoch 2 loss 8261.965038424223, test L1 = 0.08195103512577762\n",
            "Epoch 3 loss 7844.946415122038, test L1 = 0.07851229909977882\n",
            "Epoch 4 loss 7680.76375804228, test L1 = 0.08354851109237453\n",
            "Epoch 5 loss 7469.102069929534, test L1 = 0.08091658278325804\n",
            "Epoch 6 loss 7535.281245212929, test L1 = 0.08160609703243168\n",
            "Epoch 7 loss 7334.598305695977, test L1 = 0.07941087744399614\n",
            "Epoch 8 loss 7260.908581303615, test L1 = 0.07605568701827448\n",
            "Epoch 9 loss 7102.399466720281, test L1 = 0.08180752773982247\n",
            "Epoch 10 loss 7051.290812972325, test L1 = 0.07505582348486177\n",
            "Epoch 11 loss 6976.003523284314, test L1 = 0.07377572886012738\n",
            "Epoch 12 loss 6983.891756344465, test L1 = 0.073888682096807\n",
            "Epoch 13 loss 6871.022660398795, test L1 = 0.07444307955554108\n",
            "Epoch 14 loss 6823.053010429432, test L1 = 0.07504942277872484\n",
            "Epoch 15 loss 6738.238333907781, test L1 = 0.07164394366098385\n",
            "Epoch 16 loss 6676.098004110499, test L1 = 0.0729025497156031\n",
            "Epoch 17 loss 6705.113214231005, test L1 = 0.07170060790734353\n",
            "Epoch 18 loss 6669.364320044424, test L1 = 0.07149951651789783\n",
            "Epoch 19 loss 6630.554354000715, test L1 = 0.07091802955160734\n"
          ]
        }
      ],
      "source": [
        "train_model(num_epochs=20, train_loader=train_loader, optimizer=optimizer, test_loader=test_loader, scheduler=scheduler, model=big_vae)"
      ]
    },
    {
      "cell_type": "markdown",
      "metadata": {
        "id": "8u3xFsz6swI3"
      },
      "source": [
        "## **Generowanie obrazków**"
      ]
    },
    {
      "cell_type": "code",
      "execution_count": null,
      "metadata": {
        "id": "ApWAYGJ7sypw"
      },
      "outputs": [],
      "source": [
        "def generate_images(model, n_imgs, device):\n",
        "    # Generate images\n",
        "    model.eval()\n",
        "    with torch.no_grad():\n",
        "        generated_imgs = model.decoder(torch.randn([n_imgs, model.latent_dim]).to(device))\n",
        "    generated_imgs = generated_imgs.cpu()\n",
        "    \n",
        "    grid = torchvision.utils.make_grid(generated_imgs, nrow=4, normalize=False, range=(-1,1))\n",
        "    grid = grid.permute(1, 2, 0)\n",
        "    if n_imgs == 4:\n",
        "        plt.figure(figsize=(10,10))\n",
        "    else:\n",
        "        plt.figure(figsize=(15,10))\n",
        "    plt.title(f\"Generations\")\n",
        "    plt.imshow(grid)\n",
        "    plt.axis('off')\n",
        "    plt.show()\n",
        "\n",
        "    return generated_imgs\n"
      ]
    },
    {
      "cell_type": "code",
      "execution_count": null,
      "metadata": {
        "colab": {
          "base_uri": "https://localhost:8080/",
          "height": 591
        },
        "id": "pkZxwyeTtacC",
        "outputId": "9e7874fb-4eb6-45e9-feb5-6dad928a7c11"
      },
      "outputs": [
        {
          "output_type": "display_data",
          "data": {
            "text/plain": [
              "<Figure size 1080x720 with 1 Axes>"
            ],
            "image/png": "[encoded data removed]"
          },
          "metadata": {
            "needs_background": "light"
          }
        }
      ],
      "source": [
        "generated_images = generate_images(model=vae, n_imgs=16, device=device)"
      ]
    },
    {
      "cell_type": "code",
      "execution_count": null,
      "metadata": {
        "colab": {
          "base_uri": "https://localhost:8080/",
          "height": 591
        },
        "id": "bDTB0-4DqqMV",
        "outputId": "79ad270c-a5f6-42e0-f4ef-5d25048bb4e6"
      },
      "outputs": [
        {
          "output_type": "display_data",
          "data": {
            "text/plain": [
              "<Figure size 1080x720 with 1 Axes>"
            ],
            "image/png": "[encoded data removed]"
          },
          "metadata": {
            "needs_background": "light"
          }
        }
      ],
      "source": [
        "generated_images = generate_images(model=big_vae, n_imgs=16, device=device)"
      ]
    },
    {
      "cell_type": "code",
      "execution_count": null,
      "metadata": {
        "colab": {
          "base_uri": "https://localhost:8080/"
        },
        "id": "FtgZq2gF3zAD",
        "outputId": "fd70ac11-b961-4953-deb6-2035ae25b364"
      },
      "outputs": [
        {
          "data": {
            "text/plain": [
              "torch.Size([4, 3, 32, 32])"
            ]
          },
          "execution_count": 70,
          "metadata": {},
          "output_type": "execute_result"
        }
      ],
      "source": [
        "generated_images.size()"
      ]
    },
    {
      "cell_type": "code",
      "execution_count": null,
      "metadata": {
        "colab": {
          "base_uri": "https://localhost:8080/"
        },
        "id": "ly9iNpR13p-v",
        "outputId": "66b5d2d4-8e47-449e-981a-37c535088c8c"
      },
      "outputs": [
        {
          "name": "stdout",
          "output_type": "stream",
          "text": [
            "/usr/bin/python3: No module named pytorch_fid\n"
          ]
        }
      ],
      "source": [
        "!python -m pytorch_fid"
      ]
    }
  ],
  "metadata": {
    "accelerator": "GPU",
    "colab": {
      "provenance": []
    },
    "gpuClass": "standard",
    "kernelspec": {
      "display_name": "Python 3.10.6 64-bit",
      "language": "python",
      "name": "python3"
    },
    "language_info": {
      "codemirror_mode": {
        "name": "ipython",
        "version": 3
      },
      "file_extension": ".py",
      "mimetype": "text/x-python",
      "name": "python",
      "nbconvert_exporter": "python",
      "pygments_lexer": "ipython3",
      "version": "3.10.6"
    },
    "vscode": {
      "interpreter": {
        "hash": "916dbcbb3f70747c44a77c7bcd40155683ae19c65e1c03b4aa3499c5328201f1"
      }
    }
  },
  "nbformat": 4,
  "nbformat_minor": 0
}